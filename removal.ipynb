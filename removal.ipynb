{
 "cells": [
  {
   "cell_type": "code",
   "execution_count": 3,
   "id": "3e702291",
   "metadata": {},
   "outputs": [],
   "source": [
    "import os\n",
    "\n",
    "left_dir = '/mnt/c/Users/kbh11/OneDrive/Documents/Tank Challenge/capture_images/L'\n",
    "right_dir = '/mnt/c/Users/kbh11/OneDrive/Documents/Tank Challenge/capture_images/R'\n",
    "\n",
    "def get_item_dir(from_dir):\n",
    "    items = sorted(os.listdir(from_dir))\n",
    "    item = items[-1]\n",
    "    item_dir = os.path.join(from_dir, item)\n",
    "    return items, item_dir\n",
    "\n",
    "left_items, left_item_dir = get_item_dir(left_dir)\n",
    "right_items, right_item_dir = get_item_dir(right_dir)\n",
    "\n",
    "\n",
    "for item in left_items:\n",
    "    os.remove(os.path.join(left_dir, item))\n",
    "for item in right_items:\n",
    "    os.remove(os.path.join(right_dir, item))\n"
   ]
  }
 ],
 "metadata": {
  "kernelspec": {
   "display_name": "torch",
   "language": "python",
   "name": "python3"
  },
  "language_info": {
   "codemirror_mode": {
    "name": "ipython",
    "version": 3
   },
   "file_extension": ".py",
   "mimetype": "text/x-python",
   "name": "python",
   "nbconvert_exporter": "python",
   "pygments_lexer": "ipython3",
   "version": "3.11.11"
  }
 },
 "nbformat": 4,
 "nbformat_minor": 5
}
