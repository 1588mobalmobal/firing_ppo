{
 "cells": [
  {
   "cell_type": "code",
   "execution_count": 18,
   "id": "613e7ef4",
   "metadata": {},
   "outputs": [
    {
     "name": "stdout",
     "output_type": "stream",
     "text": [
      "Tank Env initialized\n",
      "Using cuda device\n",
      "BC Epoch 1/5, Loss: 3.8944361209869385\n",
      "BC Epoch 2/5, Loss: 3.8362802267074585\n",
      "BC Epoch 3/5, Loss: 3.774782657623291\n",
      "BC Epoch 4/5, Loss: 3.7113945484161377\n",
      "BC Epoch 5/5, Loss: 3.645296812057495\n",
      "BC model saved to ppo_bc_model.zip\n"
     ]
    },
    {
     "data": {
      "text/plain": [
       "<stable_baselines3.ppo.ppo.PPO at 0x7f325170e790>"
      ]
     },
     "execution_count": 18,
     "metadata": {},
     "output_type": "execute_result"
    }
   ],
   "source": [
    "from app_copy import init_device\n",
    "from app_copy import initialize_ppo\n",
    "import numpy as np\n",
    "import torch\n",
    "\n",
    "def behavior_cloning_pretrain(model, epochs=5, batch_size=64, lr=3e-4, save_path=\"ppo_bc_model.zip\"):\n",
    "    # 데이터셋 로드\n",
    "    image_np = np.load('./images.npz')['arr_0']\n",
    "    sensor_np = np.load('./sensors.npz')['arr_0']\n",
    "    action_np = np.load('./actions.npz')['arr_0']\n",
    "    dataset = []\n",
    "    for i in range(len(image_np)):\n",
    "        data = {\n",
    "            'obs': {'image': image_np[i], 'sensor_data': sensor_np[i]},\n",
    "            'action': action_np[i]\n",
    "        }\n",
    "        dataset.append(data)\n",
    "\n",
    "\n",
    "    # 옵티마이저 설정\n",
    "    optimizer = torch.optim.Adam(model.policy.parameters(), lr=lr)\n",
    "\n",
    "    # 학습 루프\n",
    "    for epoch in range(epochs):\n",
    "        np.random.shuffle(dataset)\n",
    "        total_loss = 0\n",
    "        for i in range(0, len(dataset), batch_size):\n",
    "            batch = dataset[i:i + batch_size]\n",
    "            obs_batch = {\n",
    "                \"image\": torch.tensor(np.stack([d[\"obs\"][\"image\"].squeeze(0) for d in batch]), dtype=torch.float32).to(model.device),\n",
    "                \"sensor_data\": torch.tensor(np.stack([d[\"obs\"][\"sensor_data\"].squeeze(0) for d in batch]), dtype=torch.float32).to(model.device)\n",
    "            }\n",
    "            action_batch = torch.tensor(np.stack([d[\"action\"] for d in batch]), dtype=torch.int64).to(model.device)\n",
    "            # 행동 분포 얻기\n",
    "            distribution = model.policy.get_distribution(obs_batch)\n",
    "            # 로그 확률 계산\n",
    "            log_prob = distribution.log_prob(action_batch)\n",
    "            # 손실 계산\n",
    "            loss = -log_prob.mean()\n",
    "            # 역전파\n",
    "            optimizer.zero_grad()\n",
    "            loss.backward()\n",
    "            torch.nn.utils.clip_grad_norm_(model.policy.parameters(), 0.5)\n",
    "            optimizer.step()\n",
    "            total_loss += loss.item()\n",
    "        print(f\"BC Epoch {epoch+1}/{epochs}, Loss: {total_loss / (len(dataset) // batch_size)}\")\n",
    "\n",
    "    # 모델 가중치 저장\n",
    "    model.save(save_path)\n",
    "    print(f\"BC model saved to {save_path}\")\n",
    "    return model\n",
    "\n",
    "device = init_device()\n",
    "model, env = initialize_ppo()\n",
    "\n",
    "behavior_cloning_pretrain(model)"
   ]
  },
  {
   "cell_type": "code",
   "execution_count": 13,
   "id": "d25b26b8",
   "metadata": {},
   "outputs": [
    {
     "data": {
      "text/plain": [
       "128"
      ]
     },
     "execution_count": 13,
     "metadata": {},
     "output_type": "execute_result"
    }
   ],
   "source": [
    "image_np = np.load('./images.npz')['arr_0']\n",
    "len(image_np)"
   ]
  }
 ],
 "metadata": {
  "kernelspec": {
   "display_name": "torch",
   "language": "python",
   "name": "python3"
  },
  "language_info": {
   "codemirror_mode": {
    "name": "ipython",
    "version": 3
   },
   "file_extension": ".py",
   "mimetype": "text/x-python",
   "name": "python",
   "nbconvert_exporter": "python",
   "pygments_lexer": "ipython3",
   "version": "3.11.11"
  }
 },
 "nbformat": 4,
 "nbformat_minor": 5
}
